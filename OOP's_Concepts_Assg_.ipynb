{
 "cells": [
  {
   "cell_type": "code",
   "execution_count": 2,
   "id": "f2a412d3-d8a6-4036-8141-a97dc5c7e23f",
   "metadata": {},
   "outputs": [
    {
     "data": {
      "text/plain": [
       "'Q.1 Q1. Which function is used to open a file? What are the different modes of opening a file? Explain each mode\\nof file opening.'"
      ]
     },
     "execution_count": 2,
     "metadata": {},
     "output_type": "execute_result"
    }
   ],
   "source": [
    "\"\"\"Q.1 Q1. Which function is used to open a file? What are the different modes of opening a file? Explain each mode\n",
    "of file opening.\"\"\"\n",
    "\n"
   ]
  },
  {
   "cell_type": "code",
   "execution_count": 5,
   "id": "332fc581-c7b5-46dc-9bac-00a7d7a8fc27",
   "metadata": {},
   "outputs": [
    {
     "data": {
      "text/plain": [
       "\"\\n'r': This mode opens a file for reading only. \\n'w': This mode opens a file for writing only.\\n'a': This mode opens a file for appending.\\n'x': This mode generates a new file and opens it for writing.\\n'a+': This mode opens a file for both reading and appending.\\n'w+': This mode opens a file for both reading and writing.\\n'r+': This mode opens a file for both reading and writing.\\n\""
      ]
     },
     "execution_count": 5,
     "metadata": {},
     "output_type": "execute_result"
    }
   ],
   "source": [
    "#Answer: There are several modes to opening a file below are answers\n",
    "\"\"\"\n",
    "'r': This mode opens a file for reading only. \n",
    "'w': This mode opens a file for writing only.\n",
    "'a': This mode opens a file for appending.\n",
    "'x': This mode generates a new file and opens it for writing.\n",
    "'a+': This mode opens a file for both reading and appending.\n",
    "'w+': This mode opens a file for both reading and writing.\n",
    "'r+': This mode opens a file for both reading and writing.\n",
    "\"\"\""
   ]
  },
  {
   "cell_type": "code",
   "execution_count": 8,
   "id": "b6d03916-e445-496d-ba4e-cb15d3c6667d",
   "metadata": {},
   "outputs": [
    {
     "data": {
      "text/plain": [
       "\"Closing files with the `close()` function when you're done with them is like turning off the tap after you finish using water. It helps save resources, makes sure everything is stored safely, prevents others from having trouble accessing the file, and ensures your code works smoothly no matter where it's run.\""
      ]
     },
     "execution_count": 8,
     "metadata": {},
     "output_type": "execute_result"
    }
   ],
   "source": [
    "#Q2. Why close() function is used? Why is it important to close a file?\n",
    "\n",
    "\"\"\"Closing files with the `close()` function when you're done with them is like turning off the tap after you finish using water. It helps save resources, makes sure everything is stored safely, prevents others from having trouble accessing the file, and ensures your code works smoothly no matter where it's run.\"\"\""
   ]
  },
  {
   "cell_type": "code",
   "execution_count": 9,
   "id": "1f823f2e-c2bc-49a3-ac36-cba075cffe48",
   "metadata": {},
   "outputs": [
    {
     "data": {
      "text/plain": [
       "'Q3. Write a python program to create a text file. Write ‘I want to become a Data Scientist’ in that file. Then\\nclose the file. Open this file and read the content of the file.'"
      ]
     },
     "execution_count": 9,
     "metadata": {},
     "output_type": "execute_result"
    }
   ],
   "source": [
    "\"\"\"Q3. Write a python program to create a text file. Write ‘I want to become a Data Scientist’ in that file. Then\n",
    "close the file. Open this file and read the content of the file.\"\"\"\n"
   ]
  },
  {
   "cell_type": "code",
   "execution_count": 10,
   "id": "11258ee8-a15d-4df5-9954-dbd7c12c396d",
   "metadata": {},
   "outputs": [
    {
     "name": "stdout",
     "output_type": "stream",
     "text": [
      "data of the file:\n",
      "I want to become a Data Scientist\n"
     ]
    }
   ],
   "source": [
    "#Q.3 Answer\n",
    "\n",
    "with open('Data_scientist.txt', 'w') as file:\n",
    "    file.write('I want to become a Data Scientist')\n",
    "\n",
    "with open('Data_scientist.txt', 'r') as file:\n",
    "    data = file.read()\n",
    "    print(\"data of the file:\")\n",
    "    print(data)\n"
   ]
  },
  {
   "cell_type": "code",
   "execution_count": 11,
   "id": "40ee2a15-01f2-4e54-8d75-8a6afb00ac8c",
   "metadata": {},
   "outputs": [
    {
     "data": {
      "text/plain": [
       "'Q4. Explain the following with python code: read(), readline() and readlines().'"
      ]
     },
     "execution_count": 11,
     "metadata": {},
     "output_type": "execute_result"
    }
   ],
   "source": [
    "\"\"\"Q4. Explain the following with python code: read(), readline() and readlines().\"\"\""
   ]
  },
  {
   "cell_type": "code",
   "execution_count": 23,
   "id": "abd59a6d-ef1d-4843-a8f0-e3a7efccb125",
   "metadata": {},
   "outputs": [
    {
     "data": {
      "text/plain": [
       "'I am shivam vijay rajbhar'"
      ]
     },
     "execution_count": 23,
     "metadata": {},
     "output_type": "execute_result"
    }
   ],
   "source": [
    "#Suppose we have a file named \"shivam.txt\" with the following content:\n",
    "\"I am shivam\"\n",
    "\"I am shivam rajbhar\"\n",
    "\"I am shivam vijay rajbhar\""
   ]
  },
  {
   "cell_type": "code",
   "execution_count": null,
   "id": "f0a11ec6-2b71-40d7-aa8b-867f531ff7b8",
   "metadata": {},
   "outputs": [],
   "source": [
    "with open('shivam.txt', 'r') as file:\n",
    "    content = file.read()\n",
    "    print(\"Contents of the file using read() method:\")\n",
    "    print(content)\n",
    "\n",
    "with open('shivam.txt', 'r') as file:\n",
    "    print(\"\\nContents of the file using readline() method:\")\n",
    "    line = file.readline()\n",
    "    while line:\n",
    "        print(line.strip())  # strip() method removes the trailing newline character\n",
    "        line = file.readline()\n",
    "\n",
    "# Using readlines() method\n",
    "with open('shivam.txt', 'r') as file:\n",
    "    print(\"\\nContents of the file using readlines() method:\")\n",
    "    lines = file.readlines()\n",
    "    for line in lines:\n",
    "        print(line.strip())  # strip() method removes the trailing newline character\n"
   ]
  },
  {
   "cell_type": "code",
   "execution_count": 15,
   "id": "dbc84dde-19d4-467d-95a4-1db8a7a96761",
   "metadata": {},
   "outputs": [
    {
     "data": {
      "text/plain": [
       "'Q5. Explain why with statement is used with open(). What is the advantage of using with statement and\\nopen() together?'"
      ]
     },
     "execution_count": 15,
     "metadata": {},
     "output_type": "execute_result"
    }
   ],
   "source": [
    "\"\"\"Q5. Explain why with statement is used with open(). What is the advantage of using with statement and\n",
    "open() together?\"\"\""
   ]
  },
  {
   "cell_type": "code",
   "execution_count": 22,
   "id": "11d93a5b-7ac9-4cdd-a897-11c6ef918118",
   "metadata": {},
   "outputs": [
    {
     "data": {
      "text/plain": [
       "'\\nUsing the with statement alongside open() for file handling ensures automatic resource\\nmanagement, clearer code, improved exception handling, and removes the requirement for \\nexplicit close calls, leading to code that is both more sturdy and easier to understand.\\n'"
      ]
     },
     "execution_count": 22,
     "metadata": {},
     "output_type": "execute_result"
    }
   ],
   "source": [
    "#Q.5 Answer\n",
    "\"\"\"\n",
    "Using the with statement alongside open() for file handling ensures automatic resource\n",
    "management, clearer code, improved exception handling, and removes the requirement for \n",
    "explicit close calls, leading to code that is both more sturdy and easier to understand.\n",
    "\"\"\""
   ]
  },
  {
   "cell_type": "code",
   "execution_count": 21,
   "id": "1b45e526-ec17-4679-84a2-d15ea8f5b9c1",
   "metadata": {},
   "outputs": [],
   "source": [
    "#Q6. Explain the write() and writelines() functions. Give a suitable example.\n",
    "\n",
    "#Answer: \n",
    "\"\"\"\n",
    "The write() function in Python is used to write a specified string to an open file. It takes a string \n",
    "as an argument and writes that string to the file at the current file position. If the file does not exist, \n",
    "it will be created.\n",
    "\n",
    "The writelines() function is akin to write(), but it accepts a list of strings as input and \n",
    "writes each string to the file. It doesn't automatically include newline characters, so if you want\n",
    "each string on a new line, you must add '\\n' yourself.\n",
    "\"\"\"\n",
    "\n",
    "with open('random.txt', 'w') as file:\n",
    "    file.write('This is line 1.\\n')\n",
    "    file.write('This is line 2.\\n')\n",
    "    file.write('This is line 3.\\n')\n",
    "\n",
    "\n",
    "lines = ['This is line 1.\\n', 'This is line 2.\\n', 'This is line 3.\\n']\n",
    "with open('random.txt', 'w') as file:\n",
    "    file.writelines(lines)\n"
   ]
  },
  {
   "cell_type": "code",
   "execution_count": null,
   "id": "2bde59ac-7525-4c7c-9ca2-159e1a834cdc",
   "metadata": {},
   "outputs": [],
   "source": []
  }
 ],
 "metadata": {
  "kernelspec": {
   "display_name": "Python 3 (ipykernel)",
   "language": "python",
   "name": "python3"
  },
  "language_info": {
   "codemirror_mode": {
    "name": "ipython",
    "version": 3
   },
   "file_extension": ".py",
   "mimetype": "text/x-python",
   "name": "python",
   "nbconvert_exporter": "python",
   "pygments_lexer": "ipython3",
   "version": "3.10.8"
  }
 },
 "nbformat": 4,
 "nbformat_minor": 5
}
